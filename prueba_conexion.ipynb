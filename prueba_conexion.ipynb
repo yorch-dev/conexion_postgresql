{
 "cells": [
  {
   "cell_type": "code",
   "execution_count": null,
   "metadata": {},
   "outputs": [],
   "source": [
    "# Preparación\n",
    "import os\n",
    "from dotenv import load_dotenv\n",
    "from conexion_postgres import config, conexion\n",
    "\n",
    "load_dotenv()\n",
    "ini_file_path = os.getenv('INI_FILE_PATH')\n",
    "\n",
    "# Cargando datos de conexión\n",
    "data_conn = config.config(ini_file_path)\n",
    "# crear objeto conexion\n",
    "con = conexion.Conexion(**data_conn)\n"
   ]
  },
  {
   "cell_type": "code",
   "execution_count": null,
   "metadata": {},
   "outputs": [],
   "source": [
    "# Conexión\n",
    "conn = con.conectar()\n",
    "cur = conn.cursor()"
   ]
  },
  {
   "cell_type": "code",
   "execution_count": null,
   "metadata": {},
   "outputs": [],
   "source": [
    "# Gestionando consulta\n",
    "print('PostgreSQL database version:')\n",
    "cur.execute('SELECT version()')\n",
    "resultados = cur.fetchall()\n",
    "print(resultados)"
   ]
  },
  {
   "cell_type": "code",
   "execution_count": null,
   "metadata": {},
   "outputs": [],
   "source": [
    "# Cerrando conexión\n",
    "cur.close()\n",
    "con.desconectar()"
   ]
  }
 ],
 "metadata": {
  "kernelspec": {
   "display_name": "Python 3",
   "language": "python",
   "name": "python3"
  },
  "language_info": {
   "codemirror_mode": {
    "name": "ipython",
    "version": 3
   },
   "file_extension": ".py",
   "mimetype": "text/x-python",
   "name": "python",
   "nbconvert_exporter": "python",
   "pygments_lexer": "ipython3",
   "version": "3.11.3"
  },
  "orig_nbformat": 4
 },
 "nbformat": 4,
 "nbformat_minor": 2
}
